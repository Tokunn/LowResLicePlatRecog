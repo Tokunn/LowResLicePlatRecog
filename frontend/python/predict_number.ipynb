{
 "cells": [
  {
   "cell_type": "code",
   "execution_count": null,
   "metadata": {},
   "outputs": [],
   "source": [
    "import keras\n",
    "from keras.utils import np_utils\n",
    "from keras.layers.convolutional import Conv2D, MaxPooling2D\n",
    "from keras.models import Sequential\n",
    "from keras.layers.core import Dense, Dropout, Activation, Flatten\n",
    "from keras.preprocessing.image import array_to_img, img_to_array\n",
    "from keras.preprocessing.image import list_pictures, load_img, ImageDataGenerator\n",
    "from keras.applications import imagenet_utils\n",
    "import numpy as np\n",
    "import pandas as pd\n",
    "from sklearn.model_selection import train_test_split\n",
    "import matplotlib.pyplot as plt\n",
    "from PIL import Image\n",
    "import datetime, time, os, random"
   ]
  },
  {
   "cell_type": "code",
   "execution_count": null,
   "metadata": {},
   "outputs": [],
   "source": [
    "model = Sequential()\n",
    "\n",
    "model.add(Conv2D(32, (3, 3), padding='same', input_shape=x_sample.shape))\n",
    "model.add(Activation('relu'))\n",
    "model.add(Conv2D(32, (3, 3)))\n",
    "model.add(Activation('relu'))\n",
    "model.add(MaxPooling2D(pool_size=(2, 2)))\n",
    "model.add(Dropout(0.25))\n",
    "\n",
    "model.add(Conv2D(32, (3, 3), padding='same'))\n",
    "model.add(Activation('relu'))\n",
    "model.add(Conv2D(32, (3, 3)))\n",
    "model.add(Activation('relu'))\n",
    "model.add(MaxPooling2D(pool_size=(2, 2)))\n",
    "model.add(Dropout(0.25))\n",
    "\n",
    "model.add(Flatten())\n",
    "model.add(Dense(512))\n",
    "model.add(Activation('relu'))\n",
    "model.add(Dropout(0.5))\n",
    "model.add(Dense(output_classes))\n",
    "model.add(Activation('softmax'))\n",
    "\n",
    "#model.summary()\n",
    "model.compile(loss='categorical_crossentropy', optimizer='SGD', metrics=['accuracy'])"
   ]
  },
  {
   "cell_type": "code",
   "execution_count": null,
   "metadata": {},
   "outputs": [],
   "source": [
    "number_list = os.listdir('../../numberimg/imgs')\n",
    "output_classes = len(number_list)\n",
    "\n",
    "number = number_list[random.randrange(0, 100)]\n",
    "sample_name = list_pictures(os.path.join('../../numberimg/imgs/', number))[87]\n",
    "#sample_name = '../../numberimg/imgs/5366/1.png'\n",
    "img = load_img(sample_name, target_size=(64, 64))\n",
    "x_sample = img_to_array(img)\n",
    "\n",
    "#print(number_list)\n",
    "#print(output_classes)\n",
    "plt.imshow(img)\n",
    "plt.show()\n",
    "print(number)"
   ]
  },
  {
   "cell_type": "code",
   "execution_count": null,
   "metadata": {},
   "outputs": [],
   "source": [
    "weight_file = '../../weight/resizeO10_2017-12-29_16_16_52.hdf5'\n",
    "\n",
    "model.load_weights(weight_file)"
   ]
  },
  {
   "cell_type": "code",
   "execution_count": null,
   "metadata": {},
   "outputs": [],
   "source": [
    "predict_classes = model.predict_classes(np.asarray([x_sample]), verbose=1)\n",
    "print(\"Predict : \" + str(predict_classes[0]))\n",
    "print(['9052', '2223', '9282', '5140', '3802', '5366', '5495', '1683', '2694', '3277', '4082', '1327', '4581', '3837', '9851', '9864', '4019', '9137', '3289', '3229', '8778', '5922', '3606', '3719', '3413', '9203', '6091', '6407', '3300', '4675', '8176', '2340', '2514', '1796', '9173', '5810', '4814', '6906', '8294', '7611', '8583', '8677', '8478', '7046', '6010', '4121', '1753', '9472', '1778', '8009', '4646', '3355', '3186', '7212', '7464', '6257', '5562', '1393', '1741', '9054', '9547', '4775', '4628', '1664', '6877', '5682', '3403', '2370', '6856', '7743', '8151', '8255', '9673', '3695', '8640', '3111', '3953', '6830', '2060', '6554', '5006', '1834', '6182', '3920', '2650', '3842', '5511', '6758', '4265', '1177', '5948', '2481', '5567', '7240', '4956', '3926', '5091', '5992', '1292', '8412'][predict_classes[0]])"
   ]
  },
  {
   "cell_type": "code",
   "execution_count": null,
   "metadata": {},
   "outputs": [],
   "source": []
  }
 ],
 "metadata": {
  "kernelspec": {
   "display_name": "Python 2",
   "language": "python",
   "name": "python2"
  },
  "language_info": {
   "codemirror_mode": {
    "name": "ipython",
    "version": 2
   },
   "file_extension": ".py",
   "mimetype": "text/x-python",
   "name": "python",
   "nbconvert_exporter": "python",
   "pygments_lexer": "ipython2",
   "version": "2.7.14"
  }
 },
 "nbformat": 4,
 "nbformat_minor": 2
}
