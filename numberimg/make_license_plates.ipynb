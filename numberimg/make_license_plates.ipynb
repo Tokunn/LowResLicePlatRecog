{
 "cells": [
  {
   "cell_type": "code",
   "execution_count": null,
   "metadata": {},
   "outputs": [],
   "source": [
    "import numpy as np\n",
    "import PIL.Image\n",
    "import PIL.ImageDraw\n",
    "import PIL.ImageFont\n",
    "import PIL.ImageFilter\n",
    "import PIL.ImageOps\n",
    "import matplotlib.pyplot as plt\n",
    "import os, random, time, datetime\n",
    "from keras.preprocessing.image import ImageDataGenerator, img_to_array, load_img, array_to_img"
   ]
  },
  {
   "cell_type": "code",
   "execution_count": null,
   "metadata": {},
   "outputs": [],
   "source": [
    "color = (8, 57, 62)\n",
    "\n",
    "def draw_number(img, text):\n",
    "    draw = PIL.ImageDraw.Draw(img)\n",
    "    draw.font = PIL.ImageFont.truetype('/usr/share/fonts/truetype/fonts-japanese-gothic.ttf', 115, encoding='unic')\n",
    "    \n",
    "    img_size = np.array(img.size)\n",
    "    txt_size = np.array(draw.font.getsize(text))\n",
    "    pos = (img_size - txt_size) / 2\n",
    "    draw.text(np.array([50, 55]), text, fill=color)\n",
    "    \n",
    "def draw_char(img, text):\n",
    "    draw = PIL.ImageDraw.Draw(img)\n",
    "    draw.font = PIL.ImageFont.truetype('/usr/share/fonts/truetype/fonts-japanese-gothic.ttf', 40, encoding='unic')\n",
    "    \n",
    "    img_size = np.array(img.size)\n",
    "    txt_size = np.array(draw.font.getsize(text))\n",
    "    draw.text(np.array([15, 105]), text, fill=color)\n",
    "    \n",
    "   \n",
    "def draw_country(img, text, num):\n",
    "    draw = PIL.ImageDraw.Draw(img)\n",
    "    draw.font = PIL.ImageFont.truetype('/usr/share/fonts/truetype/fonts-japanese-gothic.ttf', 40, encoding='unic')\n",
    "    \n",
    "    img_size = np.array(img.size)\n",
    "    text += ' ' + num\n",
    "    txt_size = np.array(draw.font.getsize(text))\n",
    "    pos = (img_size - txt_size) / 2\n",
    "    draw.text(np.array([pos[1], 10]), text, fill=color)\n",
    " "
   ]
  },
  {
   "cell_type": "code",
   "execution_count": null,
   "metadata": {},
   "outputs": [],
   "source": [
    "img = PIL.Image.new(\"RGBA\", (400, 200))\n",
    "num = \"12-44\"\n",
    "char = u\"あ\"\n",
    "country = u\"宇都宮\"\n",
    "country_num = u\"230\"\n",
    "draw_number(img, num)\n",
    "draw_char(img, char)\n",
    "draw_country(img, country, country_num)\n",
    "\n",
    "fil_par = 20\n",
    "\n",
    "plt.imshow(np.asarray(img))\n",
    "plt.show()\n",
    "\n",
    "filtered_img = img.filter(PIL.ImageFilter.GaussianBlur(radius=fil_par))\n",
    "plt.imshow(np.asarray(filtered_img))\n",
    "plt.show()\n",
    "\n",
    "filtered_img = img.resize((img.width/fil_par, img.height/fil_par))\n",
    "plt.imshow(np.asarray(filtered_img))\n",
    "plt.show()"
   ]
  },
  {
   "cell_type": "code",
   "execution_count": null,
   "metadata": {},
   "outputs": [],
   "source": [
    "def make_license_plates(country, country_number, char, number):\n",
    "    img = PIL.Image.new(\"RGB\", (400, 200), color=(255,255,255))\n",
    "    draw_country(img, country, country_number)\n",
    "    draw_char(img, char)\n",
    "    draw_number(img, number)\n",
    "    plt.imshow(np.asarray(img))\n",
    "    plt.show()\n",
    "    \n",
    "    if not(os.path.exists('./imgs/{0}'.format(number[:2]+number[3:]))):\n",
    "        os.mkdir('./imgs/{0}'.format(number[:2]+number[3:]))\n",
    "    for i in range(1, 20, 2):\n",
    "        #img_filed = img.filter(PIL.ImageFilter.GaussianBlur(radius=i))\n",
    "        img_filed = img.resize((img.width/i, img.height/i))\n",
    "        img_filed.save('./imgs/{0}/{1}.png'.format(number[:2]+number[3:], i))\n",
    "        plt.imshow(np.asarray(img_filed))\n",
    "        plt.show()\n",
    "        \n",
    "        # extend\n",
    "        train_datagen = ImageDataGenerator(rotation_range=5,\n",
    "                                  width_shift_range=0.1,\n",
    "                                  height_shift_range=0.1,\n",
    "                                  shear_range=0.1,\n",
    "                                  #zoom_range=[1,.5],\n",
    "                                  fill_mode='nearest')\n",
    "        train_generator = train_datagen.flow(np.asarray([img_to_array(img_filed)]),\n",
    "                                             batch_size=1,\n",
    "                                             save_to_dir='./imgs/{0}'.format(number[:2]+number[3:]),\n",
    "                                             save_prefix='extend_{0}'.format(i), save_format='png')\n",
    "        for j in range(10):\n",
    "            plt.imshow(array_to_img(train_generator.next()[0]))\n",
    "            plt.show()"
   ]
  },
  {
   "cell_type": "code",
   "execution_count": null,
   "metadata": {},
   "outputs": [],
   "source": [
    "country_temp = [u\"福島\", u\"会津\", u\"郡山\", u\"いわき\", u\"水戸\", u\"土浦\", u\"つくば\", u\"宇都宮\", u\"那須\", u\"とちぎ\", u\"群馬\", u\"前橋\", u\"高崎\"]\n",
    "\n",
    "#country_list = random.sample(country_temp, 10)\n",
    "country_list = country_temp[:10]\n",
    "\n",
    "#country_number_list = [random.randrange(111, 999) for i in range(10)]\n",
    "country_number_list = list(range(111, 999, 13)[:10])\n",
    "\n",
    "char_temp = u\"あ い う え お か き く け こ さ し す せ そ た ち つ て と な に ぬ ね の は ひ ふ へ こ ま み む め も や ゆ よ わ を ん\".split()\n",
    "#char_list = random.sample(char_temp, 10)\n",
    "char_list = char_temp[:10]\n",
    "\n",
    "#number_list = [random.randrange(1111, 9999) for i in range(10)]\n",
    "number_list = list(range(1111, 9999, 234)[:10])"
   ]
  },
  {
   "cell_type": "code",
   "execution_count": null,
   "metadata": {},
   "outputs": [],
   "source": [
    "print(datetime.datetime.now())\n",
    "start_time = time.time()\n",
    "\n",
    "for i in range(0, 10):\n",
    "    make_license_plates(country_list[i],\n",
    "                        str(country_number_list[i]),\n",
    "                        char_list[i],\n",
    "                        str(number_list[i])[:2]+'-'+str(number_list[i])[2:])\n",
    "    \n",
    "print(datetime.datetime.now())\n",
    "print(time.time() - start_time)"
   ]
  },
  {
   "cell_type": "code",
   "execution_count": null,
   "metadata": {},
   "outputs": [],
   "source": []
  }
 ],
 "metadata": {
  "kernelspec": {
   "display_name": "Python 2",
   "language": "python",
   "name": "python2"
  },
  "language_info": {
   "codemirror_mode": {
    "name": "ipython",
    "version": 2
   },
   "file_extension": ".py",
   "mimetype": "text/x-python",
   "name": "python",
   "nbconvert_exporter": "python",
   "pygments_lexer": "ipython2",
   "version": "2.7.14"
  }
 },
 "nbformat": 4,
 "nbformat_minor": 2
}
