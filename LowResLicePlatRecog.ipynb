{
 "cells": [
  {
   "cell_type": "code",
   "execution_count": null,
   "metadata": {},
   "outputs": [],
   "source": [
    "import keras\n",
    "from keras.utils import np_utils\n",
    "from keras.layers.convolutional import Conv2D, MaxPooling2D\n",
    "from keras.models import Sequential\n",
    "from keras.layers.core import Dense, Dropout, Activation, Flatten\n",
    "from keras.preprocessing.image import array_to_img, img_to_array, list_pictures, load_img, ImageDataGenerator\n",
    "from keras.applications import imagenet_utils\n",
    "import numpy as np\n",
    "import pandas as pd\n",
    "from sklearn.model_selection import train_test_split\n",
    "import matplotlib.pyplot as plt\n",
    "from PIL import Image\n",
    "import datetime, time, os"
   ]
  },
  {
   "cell_type": "code",
   "execution_count": null,
   "metadata": {},
   "outputs": [],
   "source": [
    "X = []\n",
    "Y = []\n",
    "\n",
    "number_list = os.listdir('./numberimg/imgs')\n",
    "number_list_count = 0\n",
    "\n",
    "for number in number_list:\n",
    "    for picture in list_pictures('./numberimg/imgs/{0}'.format(number)):\n",
    "        img = img_to_array(load_img(picture, target_size=(64, 64)))\n",
    "        X.append(img)\n",
    "        Y.append(number_list_count)\n",
    "        print(picture)\n",
    "    number_list_count += 1\n",
    "\n",
    "X = np.asarray(X)\n",
    "Y = np.asarray(Y)\n",
    "output_classes = number_list_count\n",
    "\n",
    "print(number_list)\n",
    "print(number_list_count)\n",
    "print(Y)"
   ]
  },
  {
   "cell_type": "code",
   "execution_count": null,
   "metadata": {},
   "outputs": [],
   "source": [
    "X = X.astype('float32')\n",
    "X = X / 255.0\n",
    "\n",
    "Y = np_utils.to_categorical(Y, output_classes)\n",
    "\n",
    "#x_train, x_test, y_train, y_test = train_test_split(X, Y, test_size=0.33, random_state=111)\n",
    "x_train, x_test, y_train, y_test = train_test_split(X, Y, test_size=0.33)"
   ]
  },
  {
   "cell_type": "code",
   "execution_count": null,
   "metadata": {},
   "outputs": [],
   "source": [
    "c = X.shape[0]\n",
    "for i in range(0, c, 50):\n",
    "    plt.imshow(X[i])\n",
    "    plt.show()"
   ]
  },
  {
   "cell_type": "code",
   "execution_count": null,
   "metadata": {},
   "outputs": [],
   "source": [
    "model = Sequential()\n",
    "\n",
    "model.add(Conv2D(32, (3, 3), padding='same', input_shape=x_train.shape[1:]))\n",
    "model.add(Activation('relu'))\n",
    "model.add(Conv2D(32, (3, 3)))\n",
    "model.add(Activation('relu'))\n",
    "model.add(MaxPooling2D(pool_size=(2, 2)))\n",
    "model.add(Dropout(0.25))\n",
    "\n",
    "model.add(Conv2D(32, (3, 3), padding='same'))\n",
    "model.add(Activation('relu'))\n",
    "model.add(Conv2D(32, (3, 3)))\n",
    "model.add(Activation('relu'))\n",
    "model.add(MaxPooling2D(pool_size=(2, 2)))\n",
    "model.add(Dropout(0.25))\n",
    "\n",
    "model.add(Flatten())\n",
    "model.add(Dense(512))\n",
    "model.add(Activation('relu'))\n",
    "model.add(Dropout(0.5))\n",
    "model.add(Dense(output_classes))\n",
    "model.add(Activation('softmax'))\n",
    "\n",
    "model.summary()\n",
    "model.compile(loss='categorical_crossentropy', optimizer='SGD', metrics=['accuracy'])"
   ]
  },
  {
   "cell_type": "code",
   "execution_count": null,
   "metadata": {},
   "outputs": [],
   "source": [
    "filename = 'resizeO10'\n",
    "filename = \"./weight/{0}_{1}.hdf5\".format(filename, datetime.datetime.now().strftime(\"%Y-%m-%d_%H:%M:%S\"))\n",
    "if os.path.exists(filename):\n",
    "    raise ValueError(\"[!!] File name collision detected !\")\n",
    "\n",
    "print(datetime.datetime.now())\n",
    "start_time = time.time()\n",
    "history = model.fit(x_train, y_train, batch_size=5, epochs=100,\n",
    "                    validation_data = (x_test, y_test), verbose=1)\n",
    "print(datetime.datetime.now())\n",
    "print(time.time() - start_time)\n",
    "\n",
    "model.save_weights(filename)"
   ]
  },
  {
   "cell_type": "code",
   "execution_count": null,
   "metadata": {},
   "outputs": [],
   "source": [
    "plt.plot(history.history['acc'])\n",
    "plt.plot(history.history['val_acc'])\n",
    "plt.title('model accuracy')\n",
    "plt.xlabel('epoch')\n",
    "plt.ylabel('accuracy')\n",
    "plt.legend(['acc', 'val_acc'], loc='lower right')\n",
    "plt.show()"
   ]
  },
  {
   "cell_type": "code",
   "execution_count": null,
   "metadata": {},
   "outputs": [],
   "source": [
    "predict_classes = model.predict_classes(x_test, verbose=1)\n",
    "mg_df = pd.DataFrame({'predict':predict_classes, 'class':np.argmax(y_test, axis=1)})\n",
    "pd.crosstab(mg_df['class'], mg_df['predict'])"
   ]
  },
  {
   "cell_type": "code",
   "execution_count": null,
   "metadata": {},
   "outputs": [],
   "source": [
    "c = x_test.shape[0]\n",
    "\n",
    "y_test_axis1 = np.argmax(y_test, axis=1)\n",
    "\n",
    "# random output\n",
    "for i in range(0, c, 10):\n",
    "    plt.imshow(array_to_img(x_test[i]))\n",
    "    plt.show()\n",
    "    print(number_list[y_test_axis1[i]])\n",
    "    print(\"predict : \" + number_list[predict_classes[i]])\n",
    "    if (y_test_axis1[i] != predict_classes[i]):\n",
    "        print(\"[!!] Wrong Answer\")\n",
    "        \n",
    "# Wrong Answer\n",
    "w_count = 0\n",
    "for i in range(c):\n",
    "    if (y_test_axis1[i] != predict_classes[i]):\n",
    "        plt.imshow(array_to_img(x_test[i]))\n",
    "        plt.show()\n",
    "        print(number_list[y_test_axis1[i]])\n",
    "        print(\"predict : \" + number_list[predict_classes[i]])\n",
    "        print(\"[!!] Wrong Answer\")\n",
    "        w_count += 1\n",
    "print(\"Accuracy: {0}/{1}={2}\".format(c-w_count, c, (c-w_count)/float(c)))"
   ]
  },
  {
   "cell_type": "code",
   "execution_count": null,
   "metadata": {},
   "outputs": [],
   "source": []
  }
 ],
 "metadata": {
  "kernelspec": {
   "display_name": "Python 2",
   "language": "python",
   "name": "python2"
  },
  "language_info": {
   "codemirror_mode": {
    "name": "ipython",
    "version": 2
   },
   "file_extension": ".py",
   "mimetype": "text/x-python",
   "name": "python",
   "nbconvert_exporter": "python",
   "pygments_lexer": "ipython2",
   "version": "2.7.14"
  }
 },
 "nbformat": 4,
 "nbformat_minor": 2
}
